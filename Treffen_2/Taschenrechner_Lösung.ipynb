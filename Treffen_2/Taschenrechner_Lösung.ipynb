{
 "cells": [
  {
   "cell_type": "markdown",
   "id": "7e1ec3b4",
   "metadata": {},
   "source": [
    "Taschenrechner für umgekehrte polnische Notation\n",
    "================================================\n",
    "Ziel dieser Übung ist die Implementierung eines interaktiven Taschenrechners.\n",
    "\n",
    "Zur Eingabe der Terme soll die umgekehrte polnische Notation verwendet werden:\n",
    "https://de.wikipedia.org/wiki/Umgekehrte_polnische_Notation.\n",
    "Hier wird der Operator nicht zwischen die Operanden geschrieben, sondern dahinter. Statt \"3 + 4\"\n",
    "würde man also \"3 4 +\" schreiben. Und \"9 + (8 - 5)\" würde man in der umgekehrten polnischen\n",
    "Notation durch \"9 8 5 - +\" darstellen. Ein letztes Beispiel noch: statt \"(4 + 5) / (6 - 3)\" würde\n",
    "man \"4 5 + 6 3 - /\" schreiben.\n",
    "Insgesamt ermöglicht dies eine eindeutige Auswertung von Termen ohne die Notwendigkeit von\n",
    "Klammern. Außerdem werden auch Operatoren mit mehr oder weniger als zwei Operanden möglich.\n",
    "\n",
    "Erstelle in dieser Aufgabe ein Programm, das solche Ausdrücke auswerten kann, nachdem es den Term\n",
    "Stück für Stück über die Kommandozeile abgefragt hat. Wird die Interaktion mit dem Programm durch\n",
    "eine leere Eingabe beendet, soll das Ergebnis zuvor noch auf der Kommandozeile ausgegeben werden.\n",
    "Eine mögliche Interaktion mit dem Programm sollte wie folgt aussehen:\n",
    "- Zahl eingeben: 4\n",
    "- Zahl oder Operation eingeben (oder Enter zum Auswerten drücken): 5\n",
    "- Zahl oder Operation eingeben (oder Enter zum Auswerten drücken): +\n",
    "- Zahl oder Operation eingeben (oder Enter zum Auswerten drücken): 6\n",
    "- Zahl oder Operation eingeben (oder Enter zum Auswerten drücken): 3\n",
    "- Zahl oder Operation eingeben (oder Enter zum Auswerten drücken): -\n",
    "- Zahl oder Operation eingeben (oder Enter zum Auswerten drücken): /\n",
    "- Zahl oder Operation eingeben (oder Enter zum Auswerten drücken):\n",
    "- Das Ergebnis ist 3.0\n",
    "\n",
    "Der Taschenrechner sollte grundsätzlich mit natürlichen Zahlen und den Grundrechenarten \"+\", \"-\",\n",
    "\"*\" und \"/\" umgehen können.\n",
    "\n",
    "Ideen für Erweiterungen:\n",
    " - lass den Taschenrechner auch negative Zahlen wie \"-2\" oder Dezimalzahlen wie \"14.1\" korrekt\n",
    "   verarbeiten,\n",
    " - erweitere den Taschenrechner um den Operator \"sqrt\", der nur einen Operanden erwartet und als\n",
    "   Ergebnis dessen Wurzel liefert: \"3 1 + sqrt\" sollte demnach \"2\" als Ergebnis haben (Hinweis: um die Wurzel (also    sqrt) berechnen zu können, musst du das package `math` importieren)\n",
    " - füge den Operator \"sum\" hinzu, dessen Ergebnis die Summe aller vorherigen Operanden ist:\n",
    "   \"1 2 3 1 sum \" sollte also den Wert \"7\" haben, oder\n",
    " - implementiere eine umfängliche Fehlerbehandlung, die bei falsch formatierten Eingaben\n",
    "   entsprechende Hinweise auf der Kommandozeile ausgibt, was schief gelaufen ist.\n",
    "Tipp: mit der Methode `isdigit()` lässt sich herausfinden, ob es sich beim Inhalt eines Strings um\n",
    "      eine natürliche Zahl handelt, der mit `int(...)` in eine solche umgewandelt werden kann.\n",
    "Ist also\n",
    "`n = \"34\"`\n",
    "dann liefert\n",
    "`n.isdigit()`\n",
    "den Wert \"True\".\n",
    "Viel Erfolg!"
   ]
  },
  {
   "cell_type": "markdown",
   "id": "30301fc7",
   "metadata": {},
   "source": [
    "### Lösung:"
   ]
  },
  {
   "cell_type": "code",
   "execution_count": 50,
   "id": "540d4e12",
   "metadata": {},
   "outputs": [
    {
     "name": "stdout",
     "output_type": "stream",
     "text": [
      "Zahl eingeben: 4\n",
      "Zahl oder Operation eingeben (oder Enter zum Auswerten drücken): 3\n",
      "Zahl oder Operation eingeben (oder Enter zum Auswerten drücken): 5\n",
      "Zahl oder Operation eingeben (oder Enter zum Auswerten drücken): sum\n",
      "Zahl oder Operation eingeben (oder Enter zum Auswerten drücken): \n",
      "Das Ergebnis ist 12\n"
     ]
    }
   ],
   "source": [
    "import math\n",
    "\n",
    "stack = []\n",
    "input_string = input(\"Zahl eingeben: \")\n",
    "while input_string:\n",
    "    if input_string.isdigit():\n",
    "        stack.append(int(input_string))\n",
    "    elif input_string == \"+\":\n",
    "        second_operand = stack.pop()\n",
    "        first_operand = stack.pop()\n",
    "        stack.append(first_operand + second_operand)\n",
    "    elif input_string == \"-\":\n",
    "        second_operand = stack.pop()\n",
    "        first_operand = stack.pop()\n",
    "        stack.append(first_operand - second_operand)\n",
    "    elif input_string == \"*\":\n",
    "        second_operand = stack.pop()\n",
    "        first_operand = stack.pop()\n",
    "        stack.append(first_operand * second_operand)\n",
    "    elif input_string == \"/\":\n",
    "        second_operand = stack.pop()\n",
    "        first_operand = stack.pop()\n",
    "        stack.append(first_operand / second_operand)\n",
    "    elif input_string == \"sum\":\n",
    "        result = 0\n",
    "        for number in stack:\n",
    "            result += number\n",
    "        stack = [result]\n",
    "    elif input_string == \"sqrt\":\n",
    "        operand = stack.pop()\n",
    "        stack.append(math.sqrt(operand))\n",
    "    else:\n",
    "        print(\"Unbekanntes Eingabeformat:\", input_string)\n",
    "\n",
    "    input_string = input(\"Zahl oder Operation eingeben (oder Enter zum Auswerten drücken): \")\n",
    "\n",
    "print(\"Das Ergebnis ist\", stack.pop())"
   ]
  },
  {
   "cell_type": "markdown",
   "id": "49e4de97",
   "metadata": {},
   "source": [
    "### Einfacherer Weg:\n",
    "Damit kommt man vielleicht eher auf die Lösung, wenn man sich erstmal vorstellt, dass man nur 3 Eingaben hat (2 Zahlen und einen Operator) und das dann danach auf \"unendlich viele\" Eingaben erweitert."
   ]
  },
  {
   "cell_type": "code",
   "execution_count": 59,
   "id": "ab0b83de",
   "metadata": {},
   "outputs": [
    {
     "name": "stdout",
     "output_type": "stream",
     "text": [
      "Zahl eingeben: 5\n",
      "Zahl eingeben: 3\n",
      "Operand eingeben: +\n",
      "Das Ergebnis ist:  8\n"
     ]
    }
   ],
   "source": [
    "input1 = input('Zahl eingeben: ')\n",
    "input2 = input('Zahl eingeben: ')\n",
    "operator = input('Operand eingeben: ')\n",
    "\n",
    "if input1.isdigit():\n",
    "    input1 = int(input1)\n",
    "if input2.isdigit():\n",
    "    input2 = int(input2)\n",
    "if operator.isdigit():\n",
    "    operator = int(operator)\n",
    "\n",
    "if operator == '+':\n",
    "    ergebnis = input1 + input2\n",
    "elif operator == '-':\n",
    "    ergebnis = input1 - input2\n",
    "elif operator == '*':\n",
    "    ergebnis = input1 * input2\n",
    "elif operator == '/':\n",
    "    ergebnis = input1 / input2\n",
    "print(\"Das Ergebnis ist: \", ergebnis)"
   ]
  },
  {
   "cell_type": "markdown",
   "id": "d61d6285",
   "metadata": {},
   "source": [
    "#### Wie `list.pop()` funktioniert:\n",
    "Wenn man auf eine Liste `liste = ['a', 'b', 'c', 'd', 'e']` die Operation `liste.pop(index)` anwendet, wird das Element am Index (also an der Stelle) `index` aus der Liste entfernt:"
   ]
  },
  {
   "cell_type": "code",
   "execution_count": 60,
   "id": "50009473",
   "metadata": {},
   "outputs": [
    {
     "name": "stdout",
     "output_type": "stream",
     "text": [
      "['a', 'b', 'd', 'e']\n"
     ]
    }
   ],
   "source": [
    "liste = ['a', 'b', 'c', 'd', 'e']\n",
    "liste.pop(2)       # Das Element am Index 2 ist 'c'\n",
    "print(liste)"
   ]
  },
  {
   "cell_type": "markdown",
   "id": "c0a50cc6",
   "metadata": {},
   "source": [
    "Wird kein Index angegeben, wird automatisch das letzte Element der Liste entfernt:"
   ]
  },
  {
   "cell_type": "code",
   "execution_count": 61,
   "id": "c47808c1",
   "metadata": {},
   "outputs": [
    {
     "name": "stdout",
     "output_type": "stream",
     "text": [
      "['a', 'b', 'c', 'd']\n"
     ]
    }
   ],
   "source": [
    "liste = ['a', 'b', 'c', 'd', 'e']\n",
    "liste.pop()      \n",
    "print(liste)"
   ]
  },
  {
   "cell_type": "markdown",
   "id": "ef0094bc",
   "metadata": {},
   "source": [
    "Das kann man auch mehrmals hintereinander ausführen, wobei immer das letzte Element enfernt wird:"
   ]
  },
  {
   "cell_type": "code",
   "execution_count": 62,
   "id": "8a78e6fe",
   "metadata": {},
   "outputs": [
    {
     "name": "stdout",
     "output_type": "stream",
     "text": [
      "Liste nach dem ersten pop():  ['a', 'b', 'c', 'd']\n",
      "Liste nach dem zweiten pop():  ['a', 'b', 'c']\n",
      "Liste nach dem dritten pop():  ['a', 'b']\n"
     ]
    }
   ],
   "source": [
    "liste = ['a', 'b', 'c', 'd', 'e']\n",
    "liste.pop()      \n",
    "print('Liste nach dem ersten pop(): ', liste)\n",
    "liste.pop()      \n",
    "print('Liste nach dem zweiten pop(): ', liste)\n",
    "liste.pop()      \n",
    "print('Liste nach dem dritten pop(): ', liste)"
   ]
  },
  {
   "cell_type": "markdown",
   "id": "a9c27c9a",
   "metadata": {},
   "source": [
    "Wird `liste.pop()` einer Variablen zugeordnet, entspricht die Variable dem aus der Liste entfernten Element:"
   ]
  },
  {
   "cell_type": "code",
   "execution_count": 63,
   "id": "d2b68719",
   "metadata": {},
   "outputs": [
    {
     "name": "stdout",
     "output_type": "stream",
     "text": [
      "['a', 'b', 'c', 'd']\n",
      "e\n"
     ]
    }
   ],
   "source": [
    "liste = ['a', 'b', 'c', 'd', 'e']\n",
    "variable = liste.pop()\n",
    "print(liste)\n",
    "print(variable)"
   ]
  },
  {
   "cell_type": "markdown",
   "id": "b51f81eb",
   "metadata": {},
   "source": [
    "Möchte man also (wie wir in unserer Aufgabe) die beiden letztem Elemente einer Liste zusammenzählen und wieder an die Liste anzuhängen, kann man folgendes ausführen:"
   ]
  },
  {
   "cell_type": "code",
   "execution_count": 65,
   "id": "dc5e96ac",
   "metadata": {},
   "outputs": [
    {
     "name": "stdout",
     "output_type": "stream",
     "text": [
      "Liste:  [5, 4, 3]\n",
      "Letztes Element der Liste:  3\n",
      "Vorletztes Element der Liste:  4\n",
      "Letztes und vorletztes Element der Liste addiert:  7\n",
      "Geänderte Liste:  [5, 7]\n"
     ]
    }
   ],
   "source": [
    "liste = [5, 4, 3]\n",
    "print('Liste: ', liste)\n",
    "letztes_element = liste.pop()\n",
    "vorletztes_element = liste.pop()\n",
    "print('Letztes Element der Liste: ', letztes_element)\n",
    "print('Vorletztes Element der Liste: ', vorletztes_element)\n",
    "print('Letztes und vorletztes Element der Liste addiert: ', letztes_element+vorletztes_element)\n",
    "liste.append(letztes_element+vorletztes_element)\n",
    "print('Geänderte Liste: ', liste)"
   ]
  }
 ],
 "metadata": {
  "kernelspec": {
   "display_name": "Python 3 (ipykernel)",
   "language": "python",
   "name": "python3"
  },
  "language_info": {
   "codemirror_mode": {
    "name": "ipython",
    "version": 3
   },
   "file_extension": ".py",
   "mimetype": "text/x-python",
   "name": "python",
   "nbconvert_exporter": "python",
   "pygments_lexer": "ipython3",
   "version": "3.8.5"
  }
 },
 "nbformat": 4,
 "nbformat_minor": 5
}
