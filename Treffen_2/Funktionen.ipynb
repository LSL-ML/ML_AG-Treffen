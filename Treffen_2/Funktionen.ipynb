{
 "cells": [
  {
   "cell_type": "markdown",
   "id": "1e1c0b08",
   "metadata": {},
   "source": [
    "# Funktionen\n",
    "Zusammenfassung von Funktionalität, die man häufig und einfach wiederverwenden will"
   ]
  },
  {
   "cell_type": "code",
   "execution_count": 1,
   "id": "9b2bccb6",
   "metadata": {},
   "outputs": [
    {
     "name": "stdout",
     "output_type": "stream",
     "text": [
      "Hallo\n"
     ]
    }
   ],
   "source": [
    "def sag_hallo():\n",
    "    print('Hallo')\n",
    "    \n",
    "sag_hallo()"
   ]
  },
  {
   "cell_type": "code",
   "execution_count": 2,
   "id": "a73a2d8d",
   "metadata": {},
   "outputs": [
    {
     "name": "stdout",
     "output_type": "stream",
     "text": [
      "Hallo\n",
      "Hallo\n",
      "Hallo\n",
      "Hallo\n",
      "Hallo\n",
      "Hallo\n",
      "Hallo\n",
      "Hallo\n",
      "Hallo\n",
      "Hallo\n"
     ]
    }
   ],
   "source": [
    "#Man kann Funktionen Variablen übergeben, hier die Anzahl der Hallos die Ausgegeben werden sollen\n",
    "def sag_oft_hallo(anzahl):\n",
    "    for a in range(anzahl):\n",
    "        print('Hallo')\n",
    "\n",
    "sag_oft_hallo(10)"
   ]
  },
  {
   "cell_type": "code",
   "execution_count": 4,
   "id": "5cdfc74e",
   "metadata": {},
   "outputs": [
    {
     "name": "stdout",
     "output_type": "stream",
     "text": [
      "10\n",
      "3\n",
      "6\n",
      "6\n"
     ]
    }
   ],
   "source": [
    "#Man kann auch mehrere Variablen übergeben. Man kann Variablen auch einen Standardwert geben, hier c= 0, d=0.\n",
    "#Die Funktion kann mit return einen Wert 'nach außen' zurückgeben\n",
    "def Addiere_mehrere_Zahlen(a, b, c=0, d=0):\n",
    "    summe = a+b+c+d\n",
    "    return summe\n",
    "\n",
    "#Man kann die Standardwerte überschreiben oder auch nicht:\n",
    "#Überschreiben beider Standardwerte zum Addieren von 4 Zahlen\n",
    "summe = Addiere_mehrere_Zahlen(1, 2, 3, 4) #hier kann ich den Rückgabewert an die Variable summe übergeben\n",
    "print(summe)\n",
    "\n",
    "#Nicht überschreiben zum Addieren von 2 Zahlen\n",
    "summe = Addiere_mehrere_Zahlen(1, 2)\n",
    "print(summe)\n",
    "\n",
    "#Nur einen Standardwert überschreiben zum Addieren von 3 Zahlen\n",
    "summe = Addiere_mehrere_Zahlen(1, 2, 3)\n",
    "print(summe)\n",
    "\n",
    "#Man kann auch explizit Standardwerte aussuchen, die man überschreiben will\n",
    "summe = Addiere_mehrere_Zahlen(1, 2, d=3)\n",
    "print(summe)"
   ]
  },
  {
   "cell_type": "code",
   "execution_count": 6,
   "id": "0f152e7f",
   "metadata": {},
   "outputs": [
    {
     "name": "stdout",
     "output_type": "stream",
     "text": [
      "Hallo\n",
      "None\n"
     ]
    }
   ],
   "source": [
    "#Wenn eine Funktion nichts zurückgibt kann man natürlich auch auf keinen Rückgabewert zugreifen\n",
    "x = sag_hallo()\n",
    "print(x) \n",
    "#sag hallo sagt wieder hallo, aber x ist None, also nichts, es wurde nichts übergeben"
   ]
  },
  {
   "cell_type": "code",
   "execution_count": 7,
   "id": "c683a146",
   "metadata": {},
   "outputs": [],
   "source": [
    "#Stelle fest ob eine Eingabe für z.B. ein Alter gültig ist\n",
    "def checke_Eingabe(Eingabe):\n",
    "    if Eingabe<0:\n",
    "        print('Bitte gibt eine positive Zahl als Alter ein')\n",
    "    elif Eingabe>120:\n",
    "        print('Bitte gib ein realistisches Alter ein')\n",
    "    else: \n",
    "        print('Valides Alter')\n"
   ]
  },
  {
   "cell_type": "code",
   "execution_count": 8,
   "id": "1a36c090",
   "metadata": {},
   "outputs": [
    {
     "name": "stdout",
     "output_type": "stream",
     "text": [
      "-1\n",
      "Bitte gibt eine positive Zahl als Alter ein\n"
     ]
    }
   ],
   "source": [
    "checke_Eingabe(int(input()))"
   ]
  },
  {
   "cell_type": "code",
   "execution_count": 9,
   "id": "635ccdfc",
   "metadata": {},
   "outputs": [
    {
     "name": "stdout",
     "output_type": "stream",
     "text": [
      "9\n",
      "51\n"
     ]
    }
   ],
   "source": [
    "def mathe_Funktion(x):\n",
    "    return 6*x+3\n",
    "\n",
    "print(mathe_Funktion(1))\n",
    "print(mathe_Funktion(8))"
   ]
  },
  {
   "cell_type": "code",
   "execution_count": null,
   "id": "6ed47c32",
   "metadata": {},
   "outputs": [],
   "source": []
  }
 ],
 "metadata": {
  "kernelspec": {
   "display_name": "Python 3 (ipykernel)",
   "language": "python",
   "name": "python3"
  },
  "language_info": {
   "codemirror_mode": {
    "name": "ipython",
    "version": 3
   },
   "file_extension": ".py",
   "mimetype": "text/x-python",
   "name": "python",
   "nbconvert_exporter": "python",
   "pygments_lexer": "ipython3",
   "version": "3.10.6"
  }
 },
 "nbformat": 4,
 "nbformat_minor": 5
}
